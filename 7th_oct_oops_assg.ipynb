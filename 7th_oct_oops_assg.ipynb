{
 "cells": [
  {
   "cell_type": "markdown",
   "id": "5a88d2bf-e26a-48ea-8039-1892e1dbc7b3",
   "metadata": {},
   "source": [
    "# Problem 1: Bank Account Create a class representing a bank account with attributes like account number, account holder name, and balance. Implement methods to deposit and withdraw money from the account."
   ]
  },
  {
   "cell_type": "code",
   "execution_count": 54,
   "id": "72feca90-6676-44bf-9e3b-256204ef91a8",
   "metadata": {},
   "outputs": [],
   "source": [
    "class bank:\n",
    "    def __init__(self,acc_number,name,balance):\n",
    "        self.number =acc_number\n",
    "        self.name = name\n",
    "        self.balance = balance\n",
    "        \n",
    "#     def account_holder_name(self):\n",
    "#         print (\"Hello \",self.name,\" Welcome to HDFC bank this is your account number\",self.number)\n",
    "    \n",
    "#     def account_balance(self):\n",
    "#         print(\"You have \",self.balance,\"Rs in your account\")\n",
    "    \n",
    "    def money_deposit(self,deposit):\n",
    "        self.deposit = deposit\n",
    "        print(deposit,\" Rs of money is deposited\")\n",
    "        self.balance += deposit\n",
    "        print(\"Total money in your back Account is Rs. \",self.balance)\n",
    "    def money_withdraw (self, withdraw):\n",
    "        self.withdraw = withdraw \n",
    "        print(withdraw, \"Rs of money is withdrawed to your bank account \")\n",
    "        self.balance -= withdraw\n",
    "        print (\"Total balance left is Rs.\",self.balance)\n",
    "    def display(self):\n",
    "        print(\"Name of the account holder is\", self.name)\n",
    "        print(\"Balance in account is\", self.balance)\n",
    "        print(\"Account No. :\", self.number)\n",
    "        \n",
    "user1 = bank(1000202,\"Azman\",2000)\n"
   ]
  },
  {
   "cell_type": "code",
   "execution_count": 55,
   "id": "b9188485-5468-4d60-b147-b1626f195f13",
   "metadata": {},
   "outputs": [
    {
     "name": "stdout",
     "output_type": "stream",
     "text": [
      "Name of the account holder is Azman\n",
      "Balance in account is 2000\n",
      "Account No. : 1000202\n"
     ]
    }
   ],
   "source": [
    "user1.display()"
   ]
  },
  {
   "cell_type": "code",
   "execution_count": 56,
   "id": "9b496e51-ea09-4fec-ab1c-3f3875657be1",
   "metadata": {},
   "outputs": [
    {
     "name": "stdout",
     "output_type": "stream",
     "text": [
      "1000 Rs of money is withdrawed to your bank account \n",
      "Total balance left is Rs. 1000\n"
     ]
    }
   ],
   "source": [
    "user1.money_withdraw(1000)\n",
    "\n"
   ]
  },
  {
   "cell_type": "code",
   "execution_count": 57,
   "id": "a041573c-1536-4395-bc05-c1bb1ddc89aa",
   "metadata": {},
   "outputs": [
    {
     "name": "stdout",
     "output_type": "stream",
     "text": [
      "20020  Rs of money is deposited\n",
      "Total money in your back Account is Rs.  21020\n"
     ]
    }
   ],
   "source": [
    "user1.money_deposit(20020)"
   ]
  },
  {
   "cell_type": "code",
   "execution_count": null,
   "id": "bcb0ab1a-36c7-440c-92c4-b4f33e8ab0e1",
   "metadata": {},
   "outputs": [],
   "source": []
  },
  {
   "cell_type": "markdown",
   "id": "211a798e-7390-47a5-93f7-8c8bfd9c1bab",
   "metadata": {},
   "source": [
    "# Problem 2: Employee Management Create a class representing an employee with attributes like employee ID, name, and salary. Implement methods to calculate the yearly bonus and display employee details."
   ]
  },
  {
   "cell_type": "code",
   "execution_count": 35,
   "id": "8ef25be3-48ff-4e50-a775-d94473aac073",
   "metadata": {},
   "outputs": [],
   "source": [
    "class employee:\n",
    "    def __init__(self,employee_ID, name,salary, bonus=5000):\n",
    "        self.employee_ID = employee_ID\n",
    "        self.name = name\n",
    "        self.salary = salary \n",
    "        self.bonus = bonus\n",
    "    # def employee_id(self):\n",
    "    #     print(\"Employee ID is\",self.employee_ID)\n",
    "    # def employee_name(self):\n",
    "    #     print(\"Employee name is \",self.name)\n",
    "    # def employee_salary(self):\n",
    "    #     print(\"The salary of the employee is \", self.salary)\n",
    "    # def employee_bonus(self):\n",
    "    #     print(\"The yearly bonus of \", self.name ,\"is \",self.bonus)\n",
    "    def display_datail(self):\n",
    "        print(\"The name of the employee is\",self.name)\n",
    "        print(\"The id of the employee is \",self.employee_ID)\n",
    "        print(\"The salary of the employee is \", self.salary)\n",
    "        print(\"The Yearly Bonus of the employee is \", self.bonus)"
   ]
  },
  {
   "cell_type": "code",
   "execution_count": 36,
   "id": "2f95c261-32b5-4eb3-9342-a2376d156cd7",
   "metadata": {},
   "outputs": [
    {
     "name": "stdout",
     "output_type": "stream",
     "text": [
      "The name of the employee is Khalid\n",
      "The id of the employee is  1132\n",
      "The salary of the employee is  50000\n",
      "The Yearly Bonus of the employee is  5000\n"
     ]
    }
   ],
   "source": [
    "employee1 = employee(1132,\"Khalid\",50000)\n",
    "employee1.display_datail()"
   ]
  },
  {
   "cell_type": "markdown",
   "id": "6be8b211-ee3f-4e16-8476-fd1fa28d7f4a",
   "metadata": {},
   "source": [
    "# Problem 3: Vehicle Rental Create a class representing a vehicle rental system. Implement methods to rent a vehicle, return a vehicle, and display available vehicles."
   ]
  },
  {
   "cell_type": "code",
   "execution_count": 4,
   "id": "fe87091d-72e3-49ad-b522-b1540eaba876",
   "metadata": {},
   "outputs": [],
   "source": [
    "class VehicleRentalSystem:\n",
    "    def __init__(self):\n",
    "        self.available_vehicles = {}\n",
    "\n",
    "    def add_vehicle(self, vehicle_id, vehicle_type):\n",
    "        self.available_vehicles[vehicle_id] = vehicle_type\n",
    "        print(f\"Vehicle {vehicle_id} {vehicle_type} added to the rental system.\")\n",
    "\n",
    "    def rent_vehicle(self, vehicle_id):\n",
    "        if vehicle_id in self.available_vehicles:\n",
    "            del self.available_vehicles[vehicle_id]\n",
    "            print(f\"Vehicle {vehicle_id} rented successfully.\")\n",
    "        else:\n",
    "            print(f\"Vehicle {vehicle_id} not available for rent or not found.\")\n",
    "\n",
    "    def return_vehicle(self, vehicle_id, returned_type=None):\n",
    "        if vehicle_id not in self.available_vehicles:\n",
    "            if returned_type:\n",
    "                self.available_vehicles[vehicle_id] = returned_type\n",
    "            else:\n",
    "                print(f\"Error: Vehicle {vehicle_id} already returned.\")\n",
    "        else:\n",
    "            print(f\"Error: Vehicle {vehicle_id} not found or not rented.\")\n",
    "            \n",
    "    def display_available_vehicles(self):\n",
    "        print(\"Available Vehicles:\")\n",
    "        for vehicle_id, vehicle_type in self.available_vehicles.items():\n",
    "            print(f\"ID: {vehicle_id}, Type: {vehicle_type}\")\n",
    "\n",
    "rental_system = VehicleRentalSystem()\n",
    "   "
   ]
  },
  {
   "cell_type": "code",
   "execution_count": 5,
   "id": "71c8b708-9c82-47cd-899c-11b34c78f53d",
   "metadata": {},
   "outputs": [
    {
     "name": "stdout",
     "output_type": "stream",
     "text": [
      "Vehicle 1 Car added to the rental system.\n",
      "Vehicle 2 Bike added to the rental system.\n",
      "Vehicle 3 Scooter added to the rental system.\n"
     ]
    }
   ],
   "source": [
    "# Adding vehicles to the system\n",
    "rental_system.add_vehicle(1, \"Car\")\n",
    "rental_system.add_vehicle(2, \"Bike\")\n",
    "rental_system.add_vehicle(3, \"Scooter\")\n"
   ]
  },
  {
   "cell_type": "code",
   "execution_count": 67,
   "id": "c878a3f8-39c2-4856-899b-691494bf2241",
   "metadata": {},
   "outputs": [
    {
     "name": "stdout",
     "output_type": "stream",
     "text": [
      "Available Vehicles:\n",
      "ID: 1, Type: Car\n",
      "ID: 2, Type: Bike\n",
      "ID: 3, Type: Scooter\n"
     ]
    }
   ],
   "source": [
    " # Displaying available vehicles\n",
    "rental_system.display_available_vehicles()"
   ]
  },
  {
   "cell_type": "code",
   "execution_count": 8,
   "id": "adb6b63b-3aa1-4daa-a445-862fcf13b653",
   "metadata": {},
   "outputs": [
    {
     "name": "stdout",
     "output_type": "stream",
     "text": [
      "Vehicle 2 rented successfully.\n"
     ]
    }
   ],
   "source": [
    " # Renting a vehicle\n",
    "rental_system.rent_vehicle(2)\n"
   ]
  },
  {
   "cell_type": "code",
   "execution_count": 69,
   "id": "5f594e9f-6a5b-456d-a5d1-68987a8bfa8f",
   "metadata": {},
   "outputs": [
    {
     "name": "stdout",
     "output_type": "stream",
     "text": [
      "Available Vehicles:\n",
      "ID: 1, Type: Car\n",
      "ID: 3, Type: Scooter\n"
     ]
    }
   ],
   "source": [
    " # Displaying available vehicles after renting\n",
    "rental_system.display_available_vehicles()\n"
   ]
  },
  {
   "cell_type": "code",
   "execution_count": 7,
   "id": "f453a783-76ad-4120-8953-bf3d6f15e933",
   "metadata": {},
   "outputs": [
    {
     "name": "stdout",
     "output_type": "stream",
     "text": [
      "Error: Vehicle 2 not found or not rented.\n"
     ]
    }
   ],
   "source": [
    " # Returning a vehicle\n",
    "rental_system.return_vehicle(2)\n"
   ]
  },
  {
   "cell_type": "code",
   "execution_count": 6,
   "id": "c51c334b-a81a-4366-86c4-18e94bbd2959",
   "metadata": {},
   "outputs": [
    {
     "name": "stdout",
     "output_type": "stream",
     "text": [
      "Available Vehicles:\n",
      "ID: 1, Type: Car\n",
      "ID: 2, Type: Bike\n",
      "ID: 3, Type: Scooter\n"
     ]
    }
   ],
   "source": [
    " # Displaying available vehicles after returning\n",
    "rental_system.display_available_vehicles()\n"
   ]
  },
  {
   "cell_type": "markdown",
   "id": "e6058088-0fea-41f0-975e-26d706c66945",
   "metadata": {},
   "source": [
    "# Problem 4: Library Catalog Create classes representing a library and a book. Implement methods to add books to the library, borrow books, and display available books."
   ]
  },
  {
   "cell_type": "code",
   "execution_count": 23,
   "id": "8ddac9ca-792d-44e4-9d0b-86d828f5f1ed",
   "metadata": {},
   "outputs": [],
   "source": [
    "class Book:\n",
    "    def __init__(self, book_name):\n",
    "        self.book_name = book_name\n",
    "        self.available = True\n",
    "\n",
    "    def borrow(self):\n",
    "        if self.available:\n",
    "            self.available = False\n",
    "            return True\n",
    "        else:\n",
    "            return False\n",
    "\n",
    "    def return_book(self):\n",
    "        if not self.available:\n",
    "            self.available = True\n",
    "            return True\n",
    "        else:\n",
    "            return False\n",
    "\n",
    "    def __str__(self):\n",
    "        return f\"{self.book_name}\"\n",
    "\n",
    "\n",
    "class Library:\n",
    "    def __init__(self):\n",
    "        self.books = []\n",
    "\n",
    "    def add_book(self, book_name):\n",
    "        book = Book(book_name)\n",
    "        self.books.append(book)\n",
    "        print(f\"Book {book_name} added to the library.\")\n",
    "\n",
    "    def borrow_book(self, book_name):\n",
    "        for book in self.books:\n",
    "            if book.book_name == book_name:\n",
    "                if book.borrow():\n",
    "                    print(f\"Book '{book_name}' borrowed successfully.\")\n",
    "                else:\n",
    "                    print(f\"Book '{book_name}' is already borrowed.\")\n",
    "                return\n",
    "        print(f\"Book '{book_name}' not found in the library.\")\n",
    "\n",
    "    def return_book(self, book_name):\n",
    "        for book in self.books:\n",
    "            if book.book_name == book_name:\n",
    "                if book.return_book():\n",
    "                    print(f\"Book '{book_name}' returned successfully.\")\n",
    "                else:\n",
    "                    print(f\"Book '{book_name}' was not borrowed.\")\n",
    "                return\n",
    "        print(f\"Book '{book_name}' not found in the library.\")\n",
    "\n",
    "    def display_available_books(self):\n",
    "        print(\"Available Books in the library:\")\n",
    "        available_books =[book for book in self.books if book.available]\n",
    "        if available_books:\n",
    "            for book in available_books:\n",
    "                print(book)\n",
    "        else:\n",
    "            print(\"No available books in the library.\")\n",
    "\n",
    "\n",
    "library = Library()"
   ]
  },
  {
   "cell_type": "code",
   "execution_count": 24,
   "id": "7cea341f-5d62-4878-a65f-1c1c2f83cea9",
   "metadata": {},
   "outputs": [
    {
     "name": "stdout",
     "output_type": "stream",
     "text": [
      "Book The Catcher in the Rye added to the library.\n",
      "Book To Kill a Mockingbird added to the library.\n",
      "Book 1984 added to the library.\n",
      "Available Books in the library:\n",
      "The Catcher in the Rye\n",
      "To Kill a Mockingbird\n",
      "1984\n"
     ]
    }
   ],
   "source": [
    "library.add_book(\"The Catcher in the Rye\")\n",
    "library.add_book(\"To Kill a Mockingbird\")\n",
    "library.add_book(\"1984\")\n",
    "\n",
    "library.display_available_books()"
   ]
  },
  {
   "cell_type": "code",
   "execution_count": 25,
   "id": "cc4c61ff-2c03-45b5-a4a2-c115b5a37acf",
   "metadata": {},
   "outputs": [
    {
     "name": "stdout",
     "output_type": "stream",
     "text": [
      "Book 'The Catcher in the Rye' borrowed successfully.\n",
      "Book 'To Kill a Mockingbird' borrowed successfully.\n",
      "Book 'The Great Gatsby' not found in the library.\n",
      "Available Books in the library:\n",
      "1984\n"
     ]
    }
   ],
   "source": [
    "library.borrow_book(\"The Catcher in the Rye\")\n",
    "library.borrow_book(\"To Kill a Mockingbird\")\n",
    "library.borrow_book(\"The Great Gatsby\")  # Trying to borrow a non-existent book\n",
    "\n",
    "library.display_available_books()\n"
   ]
  },
  {
   "cell_type": "code",
   "execution_count": 26,
   "id": "198b126e-3857-4b31-a93d-641a275ffb90",
   "metadata": {},
   "outputs": [
    {
     "name": "stdout",
     "output_type": "stream",
     "text": [
      "Book 'The Catcher in the Rye' returned successfully.\n",
      "Book 'To Kill a Mockingbird' returned successfully.\n",
      "Book '1984' was not borrowed.\n",
      "Available Books in the library:\n",
      "The Catcher in the Rye\n",
      "To Kill a Mockingbird\n",
      "1984\n"
     ]
    }
   ],
   "source": [
    "library.return_book(\"The Catcher in the Rye\")\n",
    "library.return_book(\"To Kill a Mockingbird\")\n",
    "library.return_book(\"1984\")  # Trying to return a book that is not borrowed\n",
    "\n",
    "library.display_available_books()\n"
   ]
  },
  {
   "cell_type": "markdown",
   "id": "894a6f24-c8f7-4b08-ac26-070edce0f87b",
   "metadata": {},
   "source": [
    "# Problem 5: Product Inventory Create classes representing a product and an inventory system. Implement methods to add products to the inventory, update product quantity, and display available products."
   ]
  },
  {
   "cell_type": "code",
   "execution_count": 1,
   "id": "e94909ed-63ee-4d09-9484-2bc40382f348",
   "metadata": {},
   "outputs": [
    {
     "name": "stdout",
     "output_type": "stream",
     "text": [
      "Available Products:\n",
      "Product ID: 1, Name: Laptop, Price: 999.99, Quantity: 10\n",
      "Product ID: 2, Name: Smartphone, Price: 499.99, Quantity: 20\n",
      "Product ID: 3, Name: Camera, Price: 4590.0, Quantity: 5\n",
      "Quantity updated for Product ID 1\n",
      "\n",
      "Updated Available Products:\n",
      "Product ID: 1, Name: Laptop, Price: 999.99, Quantity: 5\n",
      "Product ID: 2, Name: Smartphone, Price: 499.99, Quantity: 20\n",
      "Product ID: 3, Name: Camera, Price: 4590.0, Quantity: 5\n"
     ]
    }
   ],
   "source": [
    "class Product:\n",
    "    def __init__(self, product_id, name, price, quantity):\n",
    "        self.product_id = product_id\n",
    "        self.name = name\n",
    "        self.price = price\n",
    "        self.quantity = quantity\n",
    "\n",
    "    def __str__(self):\n",
    "        return f\"Product ID: {self.product_id}, Name: {self.name}, Price: {self.price}, Quantity: {self.quantity}\"\n",
    "\n",
    "class InventorySystem:\n",
    "    def __init__(self):\n",
    "        self.products = []\n",
    "\n",
    "    def add_product(self, product):\n",
    "        self.products.append(product)\n",
    "\n",
    "    def update_quantity(self, product_id, new_quantity):\n",
    "        for product in self.products:\n",
    "            if product.product_id == product_id:\n",
    "                product.quantity = new_quantity\n",
    "                return True  # Product found and quantity updated\n",
    "        return False  # Product not found\n",
    "\n",
    "    def display_available_products(self):\n",
    "        for product in self.products:\n",
    "            print(product)\n",
    "\n",
    "\n",
    "product1 = Product(1, \"Laptop\", 999.99, 10)\n",
    "product2 = Product(2, \"Smartphone\", 499.99, 20)\n",
    "product3 = Product(3, \"Camera\", 4590.00,5)\n",
    "\n",
    "\n",
    "inventory_system = InventorySystem()\n",
    "\n",
    "# Adding products to the inventory\n",
    "inventory_system.add_product(product1)\n",
    "inventory_system.add_product(product2)\n",
    "inventory_system.add_product(product3)\n",
    "\n",
    "# Displaying  products\n",
    "print(\"Available Products:\")\n",
    "inventory_system.display_available_products()\n",
    "\n",
    "# Updating the  quantity of a product\n",
    "product_id_to_update = 1\n",
    "new_quantity = 5\n",
    "updated = inventory_system.update_quantity(product_id_to_update, new_quantity)\n",
    "\n",
    "if updated:\n",
    "    print(f\"Quantity updated for Product ID {product_id_to_update}\")\n",
    "else:\n",
    "    print(f\"Product ID {product_id_to_update} not found in the inventory\")\n",
    "\n",
    "# Displaying available products after update\n",
    "print(\"\\nUpdated Available Products:\")\n",
    "inventory_system.display_available_products()\n"
   ]
  },
  {
   "cell_type": "markdown",
   "id": "5ea0d112-5301-4c4b-8714-68013b0f5b43",
   "metadata": {},
   "source": [
    "# Problem 6: Shape Calculation Create a class representing a shape with attributes like length, width, and height. Implement methods to calculate the area and perimeter of the shape."
   ]
  },
  {
   "cell_type": "code",
   "execution_count": 8,
   "id": "e1de46f8-67b5-45cb-a9b9-f720809ba57a",
   "metadata": {},
   "outputs": [],
   "source": [
    "import math\n",
    "class Shape:\n",
    "    def calculate_area(self):\n",
    "        pass\n",
    "    def calculate_perimeter(self):\n",
    "        pass\n",
    "    \n",
    "class Circle(Shape):\n",
    "    def __init__(self, radius):\n",
    "        self.radius = radius\n",
    "\n",
    "    def calculate_area(self):\n",
    "        return math.pi * self.radius**2\n",
    "\n",
    "    def calculate_perimeter(self):\n",
    "        return 2 * math.pi * self.radius\n",
    "\n",
    "class Rectangle(Shape):\n",
    "    def __init__(self, length, width):\n",
    "        self.length = length\n",
    "        self.width = width\n",
    "\n",
    "    def calculate_area(self):\n",
    "        return self.length * self.width\n",
    "\n",
    "    def calculate_perimeter(self):\n",
    "        return 2 * (self.length + self.width)\n",
    "\n",
    "class Triangle(Shape):\n",
    "    def __init__(self, width, height, side1, side2, side3):\n",
    "        self.width = width\n",
    "        self.height = height\n",
    "        self.side1 = side1\n",
    "        self.side2 = side2\n",
    "        self.side3 = side3\n",
    "        \n",
    "    def calculate_area(self):\n",
    "        return 0.5 * self.width * self.height\n",
    "\n",
    "    def calculate_perimeter(self):\n",
    "        return self.side1 + self.side2 + self.side3"
   ]
  },
  {
   "cell_type": "code",
   "execution_count": 10,
   "id": "8247cd67-c1e7-47a1-a916-8b3a259c88df",
   "metadata": {},
   "outputs": [
    {
     "name": "stdout",
     "output_type": "stream",
     "text": [
      "Radius of the circle: 7\n",
      "Circle Area: 153.93804002589985\n",
      "Circle Perimeter: 43.982297150257104\n"
     ]
    }
   ],
   "source": [
    "# Create a Circle object with a given radius and calculate its area and perimeter\n",
    "circle = Circle(7)\n",
    "circle_area = circle.calculate_area()\n",
    "circle_perimeter = circle.calculate_perimeter()\n",
    "\n",
    "# Print the results for the Circle\n",
    "print(\"Radius of the circle:\", 7)\n",
    "print(\"Circle Area:\", circle_area)\n",
    "print(\"Circle Perimeter:\", circle_perimeter)\n"
   ]
  },
  {
   "cell_type": "code",
   "execution_count": 13,
   "id": "b297c313-32d4-4ecc-aa56-4fd9acf08f9d",
   "metadata": {},
   "outputs": [
    {
     "name": "stdout",
     "output_type": "stream",
     "text": [
      "Triangle: width = 5  Height = 4  side1 = 4  side2 = 3  side3 = 5\n",
      "Triangle Area: 10.0\n",
      "Triangle Perimeter: 12\n"
     ]
    }
   ],
   "source": [
    "# Create a Triangle object with a base, height, and three side lengths, and calculate its area and perimeter\n",
    "print(\"Triangle: width =\", 5, \" Height =\", 4, \" side1 =\", 4, \" side2 =\", 3, \" side3 =\", 5)\n",
    "triangle = Triangle( width=5, height=4, side1=4, side2 =3, side3=5)\n",
    "triangle_area = triangle.calculate_area()\n",
    "triangle_perimeter = triangle.calculate_perimeter()\n",
    "print(\"Triangle Area:\", triangle_area)\n",
    "print(\"Triangle Perimeter:\", triangle_perimeter)\n"
   ]
  },
  {
   "cell_type": "code",
   "execution_count": 11,
   "id": "8f26ecdc-8907-41eb-b46c-159e2166e009",
   "metadata": {},
   "outputs": [
    {
     "name": "stdout",
     "output_type": "stream",
     "text": [
      "\n",
      "Rectangle: Length = 5  Width = 7\n",
      "Rectangle Area: 35\n",
      "Rectangle Perimeter: 24\n"
     ]
    }
   ],
   "source": [
    "# Create a Rectangle object with given length and width and calculate its area and perimeter\n",
    "\n",
    "rectangle = Rectangle(5,7)\n",
    "rectangle_area = rectangle.calculate_area()\n",
    "rectangle_perimeter = rectangle.calculate_perimeter()\n",
    "\n",
    "# Print the results for the Rectangle\n",
    "print(\"\\nRectangle: Length =\", 5, \" Width =\", 7)\n",
    "print(\"Rectangle Area:\", rectangle_area)\n",
    "print(\"Rectangle Perimeter:\", rectangle_perimeter)\n"
   ]
  },
  {
   "cell_type": "markdown",
   "id": "c88b8d63-b144-4cf2-be8c-2788771d2315",
   "metadata": {},
   "source": [
    "# Problem 7: Student Management Create a class representing a student with attributes like student ID, name, and grades. Implement methods to calculate the average grade and display student details."
   ]
  },
  {
   "cell_type": "code",
   "execution_count": 14,
   "id": "56bee6b8-7987-410b-be6e-d65a6351f2c0",
   "metadata": {},
   "outputs": [
    {
     "name": "stdout",
     "output_type": "stream",
     "text": [
      "Student ID: S001\n",
      "Name: John Doe\n",
      "Grades: 90, 85, 92\n",
      "Average Grade: 89.0\n",
      "\n",
      "\n",
      "Student ID: S002\n",
      "Name: Jane Smith\n",
      "Grades: 78, 88, 95\n",
      "Average Grade: 87.0\n"
     ]
    }
   ],
   "source": [
    "class Student:\n",
    "    def __init__(self, student_id, name):\n",
    "        self.student_id = student_id\n",
    "        self.name = name\n",
    "        self.grades = []\n",
    "\n",
    "    def add_grade(self, grade):\n",
    "        self.grades.append(grade)\n",
    "\n",
    "    def calculate_average_grade(self):\n",
    "        if not self.grades:\n",
    "            return 0\n",
    "        return sum(self.grades) / len(self.grades)\n",
    "\n",
    "    def display_details(self):\n",
    "        print(f\"Student ID: {self.student_id}\")\n",
    "        print(f\"Name: {self.name}\")\n",
    "        if self.grades:\n",
    "            print(f\"Grades: {', '.join(map(str, self.grades))}\")\n",
    "            print(f\"Average Grade: {self.calculate_average_grade()}\")\n",
    "        else:\n",
    "            print(\"No grades available for this student.\")\n",
    "\n",
    "# Example usage:\n",
    "student1 = Student(student_id=\"S001\", name=\"John Doe\")\n",
    "student1.add_grade(90)\n",
    "student1.add_grade(85)\n",
    "student1.add_grade(92)\n",
    "\n",
    "student2 = Student(student_id=\"S002\", name=\"Jane Smith\")\n",
    "student2.add_grade(78)\n",
    "student2.add_grade(88)\n",
    "student2.add_grade(95)\n",
    "\n",
    "student1.display_details()\n",
    "print(\"\\n\")\n",
    "student2.display_details()\n"
   ]
  },
  {
   "cell_type": "markdown",
   "id": "41a62db8-f470-4aa8-9438-edab43db224c",
   "metadata": {},
   "source": [
    "# Problem 8: Email Management Create a class representing an email with attributes like sender, recipient, and subject. Implement methods to send an email and display email details."
   ]
  },
  {
   "cell_type": "code",
   "execution_count": 6,
   "id": "9eeb3138-92c5-4e70-a5da-8e72593e8f5c",
   "metadata": {},
   "outputs": [
    {
     "name": "stdout",
     "output_type": "stream",
     "text": [
      "Email Details:\n",
      "Sender: Pwskills@gmail.com\n",
      "Recipient: Azmankhan@gmail.com\n",
      "Subject: Assignment Evalution\n",
      "Body:\n",
      "Hello Azman, Your assignment (Sorting Assignment) has been graded from PW Skills. Check below to see your score and comments from your mentor \n",
      "Status: Draft\n"
     ]
    }
   ],
   "source": [
    "class email_management:\n",
    "    def __init__(self,sender,recipient,subject, body):\n",
    "        self.sender = sender\n",
    "        self.recipient = recipient\n",
    "        self.subject = subject\n",
    "        self.body = body \n",
    "        self.sent = False\n",
    "        \n",
    "    def send_email(self):\n",
    "        print(f\"Email sent from {self.sender} to {self.recipient} with subject '{self.subject}'\")\n",
    "        self.sent = True\n",
    "    \n",
    "    def display_details(self):\n",
    "        print(\"Email Details:\")\n",
    "        print(f\"Sender: {self.sender}\")\n",
    "        print(f\"Recipient: {self.recipient}\")\n",
    "        print(f\"Subject: {self.subject}\")\n",
    "        print(\"Body:\")\n",
    "        print(self.body)\n",
    "        print(\"Status: Sent\" if self.sent else \"Status: Draft\")\n",
    "        \n",
    "email_example = email_management(sender=\"Pwskills@gmail.com\", recipient=\"Azmankhan@gmail.com\", subject=\"Assignment Evalution\" , body = \"Hello Azman, Your assignment (Sorting Assignment) has been graded from PW Skills. Check below to see your score and comments from your mentor \")\n",
    "\n",
    "# Displaying email details before sending\n",
    "email_example.display_details()"
   ]
  },
  {
   "cell_type": "code",
   "execution_count": 7,
   "id": "8498e1ef-9ee1-4a2b-91cc-4b232d962ed5",
   "metadata": {},
   "outputs": [
    {
     "name": "stdout",
     "output_type": "stream",
     "text": [
      "Email sent from Pwskills@gmail.com to Azmankhan@gmail.com with subject 'Assignment Evalution'\n",
      "Email Details:\n",
      "Sender: Pwskills@gmail.com\n",
      "Recipient: Azmankhan@gmail.com\n",
      "Subject: Assignment Evalution\n",
      "Body:\n",
      "Hello Azman, Your assignment (Sorting Assignment) has been graded from PW Skills. Check below to see your score and comments from your mentor \n",
      "Status: Sent\n"
     ]
    }
   ],
   "source": [
    "# Sending the email\n",
    "email_example.send_email()\n",
    "\n",
    "# Displaying email details after sending\n",
    "email_example.display_details()"
   ]
  },
  {
   "cell_type": "markdown",
   "id": "e76e31ee-c0bd-4136-a853-fc34da33dc88",
   "metadata": {},
   "source": [
    "# Problem 9: Social Media Profile Create a class representing a social media profile with attributes like username and posts. Implement methods to add posts, display posts, and search for posts by keyword."
   ]
  },
  {
   "cell_type": "code",
   "execution_count": 13,
   "id": "c7e6ec56-c679-4c89-b891-e1d2354bab4a",
   "metadata": {},
   "outputs": [
    {
     "name": "stdout",
     "output_type": "stream",
     "text": [
      "Posts by Azmankhan:\n",
      "- Making my first cake \n",
      "- Exploring Dubai\n",
      "- New Year 2024\n",
      "Posts containing 'new':\n",
      "- New Year 2024\n"
     ]
    }
   ],
   "source": [
    "class social_Media:\n",
    "    def __init__(self,username):\n",
    "        self.username = username\n",
    "        self.posts =  []\n",
    "    \n",
    "    def add_post(self, content):\n",
    "        self.posts.append(content)\n",
    "\n",
    "    def display_posts(self):\n",
    "        print(f\"Posts by {self.username}:\")\n",
    "        if not self.posts:\n",
    "            print(\"No posts yet.\")\n",
    "        else:\n",
    "            for post in self.posts:\n",
    "                print(f\"- {post}\")\n",
    "\n",
    "    def search_posts(self, keyword):\n",
    "        matching_posts = [post for post in self.posts if keyword.lower() in post.lower()]\n",
    "        if matching_posts:\n",
    "            print(f\"Posts containing '{keyword}':\")\n",
    "            for post in matching_posts:\n",
    "                print(f\"- {post}\")\n",
    "        else:\n",
    "            print(f\"No posts found containing '{keyword}'.\")\n",
    "    \n",
    "profile_example = social_Media(username=\"Azmankhan\")\n",
    "\n",
    "# Adding posts to the profile\n",
    "profile_example.add_post(\"Making my first cake \")\n",
    "profile_example.add_post(\"Exploring Dubai\")\n",
    "profile_example.add_post(\"New Year 2024\")\n",
    "\n",
    "# Displaying all posts\n",
    "profile_example.display_posts()\n",
    "\n",
    "# Searching for posts containing a keyword\n",
    "profile_example.search_posts(keyword=\"new\")     "
   ]
  },
  {
   "cell_type": "markdown",
   "id": "b028112b-1a59-46f6-83ac-eaffe704b70f",
   "metadata": {},
   "source": [
    "# Problem 10: ToDo List Create a class representing a ToDo list with attributes like tasks and due dates. Implement methods to add tasks, mark tasks as completed, and display pending tasks.\n",
    "\n"
   ]
  },
  {
   "cell_type": "code",
   "execution_count": 13,
   "id": "90fe4219-9a31-4591-acbc-353a7fa0342a",
   "metadata": {
    "tags": []
   },
   "outputs": [],
   "source": [
    "class toDoList:\n",
    "    def __init__(self):\n",
    "        self.tasks = []\n",
    "\n",
    "    def add_task(self, description, due_date):\n",
    "        task = {'description': description, 'due_date': due_date, 'completed': False}\n",
    "        self.tasks.append(task)\n",
    "        print(f'Task \"{description}\" added with due date {due_date}.')\n",
    "\n",
    "    def mark_task_as_completed(self, description):\n",
    "        for task in self.tasks:\n",
    "            if task['description'] == description:\n",
    "                task['completed'] = True\n",
    "                print(f'Task \"{description}\" marked as completed.')\n",
    "                return\n",
    "        print(f'Task \"{description}\" not found in the ToDo list.')\n",
    "\n",
    "    def remove_task(self, description):\n",
    "        for task in self.tasks:\n",
    "            if task['description'] == description:\n",
    "                self.tasks.remove(task)\n",
    "                print(f'Task \"{description}\" removed from the ToDo list.')\n",
    "                return\n",
    "        print(f'Task \"{description}\" not found in the ToDo list.')\n",
    "\n",
    "    def display_pending_tasks(self):\n",
    "        pending_tasks = [task for task in self.tasks if not task['completed']]\n",
    "        if not pending_tasks:\n",
    "            print('No pending tasks.')\n",
    "        else:\n",
    "            print('Pending tasks:')\n",
    "            for task in pending_tasks:\n",
    "                print(f'- {task[\"description\"]} (Due Date: {task[\"due_date\"]})')\n",
    "\n",
    "\n",
    "todo_list_example = toDoList()"
   ]
  },
  {
   "cell_type": "code",
   "execution_count": 20,
   "id": "455a28e5-9491-44a9-86c2-685578b0143e",
   "metadata": {},
   "outputs": [
    {
     "name": "stdout",
     "output_type": "stream",
     "text": [
      "Task \"Complete assignment\" added with due date 15-01-2024.\n",
      "Task \"Buy groceries\" added with due date 20-01-2024.\n",
      "Task \"Read a book\" added with due date 22-01-2024.\n",
      "Pending tasks:\n",
      "- Buy groceries (Due Date: 20-01-2024)\n",
      "- Complete assignment (Due Date: 15-01-2024)\n",
      "- Buy groceries (Due Date: 20-01-2024)\n",
      "- Read a book (Due Date: 22-01-2024)\n"
     ]
    }
   ],
   "source": [
    "# Adding tasks to the ToDo list\n",
    "todo_list_example.add_task(\"Complete assignment\", \"15-01-2024\")\n",
    "todo_list_example.add_task(\"Buy groceries\", \"20-01-2024\")\n",
    "todo_list_example.add_task(\"Read a book\",\"22-01-2024\")\n",
    "\n",
    "# Displaying pending tasks\n",
    "todo_list_example.display_pending_tasks()"
   ]
  },
  {
   "cell_type": "code",
   "execution_count": 21,
   "id": "1e0875b9-c4c3-4ccd-8c67-91505acac54c",
   "metadata": {},
   "outputs": [
    {
     "name": "stdout",
     "output_type": "stream",
     "text": [
      "Task \"Complete assignment\" marked as completed.\n",
      "Pending tasks:\n",
      "- Buy groceries (Due Date: 20-01-2024)\n",
      "- Complete assignment (Due Date: 15-01-2024)\n",
      "- Buy groceries (Due Date: 20-01-2024)\n",
      "- Read a book (Due Date: 22-01-2024)\n"
     ]
    }
   ],
   "source": [
    "# Marking a task as completed\n",
    "todo_list_example.mark_task_as_completed(\"Complete assignment\")\n",
    "\n",
    "# Displaying pending after marking one as completed\n",
    "todo_list_example.display_pending_tasks()"
   ]
  },
  {
   "cell_type": "code",
   "execution_count": 18,
   "id": "84604295-5d04-4612-94a0-7f0849081dad",
   "metadata": {},
   "outputs": [
    {
     "name": "stdout",
     "output_type": "stream",
     "text": [
      "Task \"Read a book\" removed from the ToDo list.\n",
      "Pending tasks:\n",
      "- Complete assignment (Due Date: 15-01-2024)\n",
      "- Buy groceries (Due Date: 20-01-2024)\n"
     ]
    }
   ],
   "source": [
    "todo_list_example.remove_task(\"Read a book\")\n",
    "todo_list_example.display_pending_tasks()"
   ]
  },
  {
   "cell_type": "code",
   "execution_count": null,
   "id": "fb9b594b-b593-4661-8f31-44c853d6cdb9",
   "metadata": {},
   "outputs": [],
   "source": []
  }
 ],
 "metadata": {
  "kernelspec": {
   "display_name": "Python 3 (ipykernel)",
   "language": "python",
   "name": "python3"
  },
  "language_info": {
   "codemirror_mode": {
    "name": "ipython",
    "version": 3
   },
   "file_extension": ".py",
   "mimetype": "text/x-python",
   "name": "python",
   "nbconvert_exporter": "python",
   "pygments_lexer": "ipython3",
   "version": "3.10.8"
  }
 },
 "nbformat": 4,
 "nbformat_minor": 5
}
